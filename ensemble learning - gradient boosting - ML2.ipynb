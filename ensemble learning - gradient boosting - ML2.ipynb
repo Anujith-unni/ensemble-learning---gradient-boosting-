{
 "cells": [
  {
   "cell_type": "code",
   "execution_count": 1,
   "metadata": {},
   "outputs": [],
   "source": [
    "#Problem Definition\n",
    "#Dataset Description\n",
    "#This dataset is made up of 1797 8x8 images. Each image, \n",
    "#like the one shown below, is of a hand-written digit. \n",
    "#In order to utilize an 8x8 figure like this, \n",
    "#we’d have to first transform it into a feature vector with length 64.\n"
   ]
  },
  {
   "cell_type": "code",
   "execution_count": 2,
   "metadata": {},
   "outputs": [],
   "source": [
    "#Tasks to be performed\n",
    "\n",
    "# understand gradient boosting\n",
    "#importing the libraries\n",
    "#load the dataset\n",
    "#split the data set\n",
    "#implement differnet models and evaluating the performance of model\n",
    "#implement gradient boosting classifier using sklearn library"
   ]
  },
  {
   "cell_type": "code",
   "execution_count": 3,
   "metadata": {},
   "outputs": [],
   "source": [
    "import warnings\n",
    "warnings.filterwarnings(\"ignore\")"
   ]
  },
  {
   "cell_type": "code",
   "execution_count": 5,
   "metadata": {},
   "outputs": [],
   "source": [
    "import numpy as np\n",
    "import pandas as pd\n",
    "from sklearn.model_selection import train_test_split\n",
    "from sklearn.ensemble import GradientBoostingClassifier\n",
    "from sklearn.datasets import load_digits\n",
    "from sklearn.metrics import accuracy_score\n",
    "from sklearn.model_selection import KFold,cross_val_score\n",
    "#ml algorith\n",
    "from sklearn.tree import DecisionTreeClassifier\n",
    "from sklearn.svm import SVC\n",
    "from sklearn.naive_bayes import GaussianNB"
   ]
  },
  {
   "cell_type": "markdown",
   "metadata": {},
   "source": [
    "# Load the dataset"
   ]
  },
  {
   "cell_type": "code",
   "execution_count": 10,
   "metadata": {},
   "outputs": [],
   "source": [
    "digits = load_digits()\n",
    "X=digits.data\n",
    "y=digits.target"
   ]
  },
  {
   "cell_type": "markdown",
   "metadata": {},
   "source": [
    "# split the data"
   ]
  },
  {
   "cell_type": "code",
   "execution_count": 11,
   "metadata": {},
   "outputs": [],
   "source": [
    "#split the data set\n",
    "X_train,X_test,y_train,y_test=train_test_split(X,y,test_size=0.3,random_state=7)\n"
   ]
  },
  {
   "cell_type": "markdown",
   "metadata": {},
   "source": [
    "# implement differnet models"
   ]
  },
  {
   "cell_type": "code",
   "execution_count": 14,
   "metadata": {},
   "outputs": [
    {
     "name": "stdout",
     "output_type": "stream",
     "text": [
      "decision tree: acc : 0.8385015873015872(standard deviation :0.020774874838135268)\n",
      "svm: acc : 0.40100317460317464(standard deviation :0.03429328311517924)\n",
      "naive bayes: acc : 0.8440825396825398(standard deviation :0.03482816096451723)\n"
     ]
    }
   ],
   "source": [
    "models=[]\n",
    "models.append(('decision tree',DecisionTreeClassifier()))\n",
    "models.append(('svm',SVC(gamma='auto')))\n",
    "models.append(('naive bayes',GaussianNB()))\n",
    "\n",
    "for name,model in models:\n",
    "    cross_val_sc = cross_val_score(model,X_train,y_train,scoring='accuracy',cv=10)\n",
    "    print('{}: acc : {}(standard deviation :{})'.format(name,cross_val_sc.mean(),cross_val_sc.std()))"
   ]
  },
  {
   "cell_type": "markdown",
   "metadata": {},
   "source": [
    "## WE CAN SEE A SINGLE DECISION TREE IS GIVING US QUITE GOOD ACCURACY I:E 85% .let us see how gradient boosting will perform"
   ]
  },
  {
   "cell_type": "markdown",
   "metadata": {},
   "source": [
    "# implement gradient boosting"
   ]
  },
  {
   "cell_type": "code",
   "execution_count": 17,
   "metadata": {},
   "outputs": [
    {
     "name": "stdout",
     "output_type": "stream",
     "text": [
      "0.9685185185185186\n"
     ]
    }
   ],
   "source": [
    "gbc =  GradientBoostingClassifier(n_estimators=200,learning_rate=0.1)\n",
    "gbc.fit(X_train,y_train)\n",
    "y_pred1=gbc.predict(X_test)\n",
    "print(accuracy_score(y_test,y_pred1))"
   ]
  },
  {
   "cell_type": "markdown",
   "metadata": {},
   "source": [
    "### we can see, the above gradient boosing algorith is using 200 decision trees with a learning rate of 0.1,improved the accuracy to 96%"
   ]
  },
  {
   "cell_type": "code",
   "execution_count": null,
   "metadata": {},
   "outputs": [],
   "source": []
  }
 ],
 "metadata": {
  "kernelspec": {
   "display_name": "Python 3",
   "language": "python",
   "name": "python3"
  },
  "language_info": {
   "codemirror_mode": {
    "name": "ipython",
    "version": 3
   },
   "file_extension": ".py",
   "mimetype": "text/x-python",
   "name": "python",
   "nbconvert_exporter": "python",
   "pygments_lexer": "ipython3",
   "version": "3.8.5"
  }
 },
 "nbformat": 4,
 "nbformat_minor": 4
}
